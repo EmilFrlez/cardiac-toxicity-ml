{
 "cells": [
  {
   "cell_type": "code",
   "execution_count": 1,
   "metadata": {},
   "outputs": [],
   "source": [
    "import os\n",
    "import pydicom as dicom\n",
    "import matplotlib.pyplot as plt\n",
    "import numpy as np"
   ]
  },
  {
   "cell_type": "code",
   "execution_count": 2,
   "metadata": {},
   "outputs": [
    {
     "name": "stdout",
     "output_type": "stream",
     "text": [
      "['-212.641', '-92.246', '-780.943']\n"
     ]
    }
   ],
   "source": [
    "dose_dir = 'clinical'\n",
    "dose_file = os.listdir(dose_dir)\n",
    "\n",
    "rd_file = os.path.join(dose_dir,dose_file[0])\n",
    "\n",
    "fl = 'RTSTRUCT_2.16.840.1.113669.2.931128.818772296.20180226171802.209303.dcm'\n",
    "rd_dose = dicom.dcmread('/home/ef2p/Kaggle/cardiac/clinical/'+f)\n",
    "\n",
    "rd_dose.dir('Position') # check tags\n",
    "print(rd_dose.ImagePositionPatient) # ['-212.641', '-92.246', '-780.943']\n",
    "#rd_dose.dir() # list all tags\n",
    "#rd_dose.GridFrameOffsetVector"
   ]
  },
  {
   "cell_type": "code",
   "execution_count": 3,
   "metadata": {},
   "outputs": [
    {
     "name": "stdout",
     "output_type": "stream",
     "text": [
      "['-300', '-194', '-529.5']\n",
      "(512, 512)\n"
     ]
    }
   ],
   "source": [
    "ct_dir = 'PreTx_12_08_2016'\n",
    "ct_file = os.listdir(ct_dir)\n",
    "\n",
    "img_file = os.path.join(ct_dir,ct_file[50])\n",
    "img = dicom.dcmread(img_file)\n",
    "\n",
    "print(img.ImagePositionPatient) # ['-300', '-194', '-529.5']\n",
    "\n",
    "img = img.pixel_array # converts dcm to numpay array\n",
    "print(img.shape)"
   ]
  },
  {
   "cell_type": "code",
   "execution_count": 4,
   "metadata": {},
   "outputs": [
    {
     "name": "stdout",
     "output_type": "stream",
     "text": [
      "uint16\n",
      "(135, 121, 182)\n",
      "<class 'numpy.ndarray'>\n"
     ]
    }
   ],
   "source": [
    "data = rd_dose.pixel_array\n",
    "print(data.dtype)\n",
    "print(data.shape)\n",
    "print(type(data))"
   ]
  },
  {
   "cell_type": "code",
   "execution_count": 5,
   "metadata": {},
   "outputs": [
    {
     "name": "stdout",
     "output_type": "stream",
     "text": [
      "The image has 135 x 121 voxels\n"
     ]
    }
   ],
   "source": [
    "print('The image has {} x {} voxels'.format(data.shape[0],data.shape[1]))"
   ]
  },
  {
   "cell_type": "code",
   "execution_count": 6,
   "metadata": {},
   "outputs": [
    {
     "data": {
      "image/png": "[encoded data removed]",
      "text/plain": [
       "<Figure size 432x288 with 1 Axes>"
      ]
     },
     "metadata": {
      "needs_background": "light"
     },
     "output_type": "display_data"
    }
   ],
   "source": [
    "data1 = data[:,:,150]\n",
    "data1.shape\n",
    "plt.contour(data1)\n",
    "#plt.imshow(data1)\n",
    "plt.show()"
   ]
  },
  {
   "cell_type": "code",
   "execution_count": null,
   "metadata": {},
   "outputs": [],
   "source": []
  }
 ],
 "metadata": {
  "kernelspec": {
   "display_name": "Python 3",
   "language": "python",
   "name": "python3"
  },
  "language_info": {
   "codemirror_mode": {
    "name": "ipython",
    "version": 3
   },
   "file_extension": ".py",
   "mimetype": "text/x-python",
   "name": "python",
   "nbconvert_exporter": "python",
   "pygments_lexer": "ipython3",
   "version": "3.7.2"
  }
 },
 "nbformat": 4,
 "nbformat_minor": 2
}
