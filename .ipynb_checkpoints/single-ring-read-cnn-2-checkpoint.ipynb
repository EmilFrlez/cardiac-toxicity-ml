{
 "cells": [
  {
   "cell_type": "code",
   "execution_count": 1,
   "metadata": {
    "ExecuteTime": {
     "end_time": "2016-07-08T01:56:12.535000",
     "start_time": "2016-07-08T01:56:12.147000"
    }
   },
   "outputs": [],
   "source": [
    "import numpy as np\n",
    "import matplotlib.pyplot as plt\n",
    "import matplotlib\n",
    "%matplotlib inline\n",
    "#plt.rcParams['figure.figsize'] = (10.0, 8.0) # set default size of plots\n",
    "#plt.rcParams['image.interpolation'] = 'nearest'\n",
    "#plt.rcParams['image.cmap'] = 'gray'\n",
    "# fix random seed for reproducibility\n",
    "#np.random.seed(7)"
   ]
  },
  {
   "cell_type": "code",
   "execution_count": 2,
   "metadata": {
    "ExecuteTime": {
     "end_time": "2016-07-08T01:56:14.210000",
     "start_time": "2016-07-08T01:56:13.200000"
    }
   },
   "outputs": [
    {
     "name": "stdout",
     "output_type": "stream",
     "text": [
      "15 27 11 0\n"
     ]
    }
   ],
   "source": [
    "# Create images with random disks and bounding boxes. \n",
    "num_imgs = 50000\n",
    "\n",
    "img_size = 50 # size 0:50, 0:50\n",
    "min_object_size = 5\n",
    "max_object_size = 35\n",
    "num_objects = 1\n",
    "\n",
    "bboxes = np.zeros((num_imgs, num_objects, 4))\n",
    "imgs = np.zeros((num_imgs, img_size, img_size))  # set background to 0\n",
    "noise = np.zeros((num_imgs, img_size, img_size))  # set noise to 0\n",
    "\n",
    "# EF\n",
    "xm, ym = np.mgrid[:img_size, :img_size]\n",
    "x0, y0, r0 = 35, 35, 25\n",
    "\n",
    "for i_img in range(num_imgs):\n",
    "    for i_object in range(num_objects):\n",
    "        x0, y0 = np.random.randint(min_object_size, max_object_size, size=2)\n",
    "        r0 = np.random.randint(8,16)\n",
    "        dr = 0       \n",
    "        disk = (xm - x0) ** 2 + (ym - y0) ** 2\n",
    "        imgs[i_img] = ( disk <= r0 ** 2 )     \n",
    "        bboxes[i_img, i_object] = [x0 , y0, r0, dr]\n",
    "        \n",
    "print(x0, y0, r0, dr)"
   ]
  },
  {
   "cell_type": "code",
   "execution_count": 3,
   "metadata": {
    "ExecuteTime": {
     "end_time": "2016-07-08T01:56:15.125000",
     "start_time": "2016-07-08T01:56:14.870000"
    }
   },
   "outputs": [
    {
     "data": {
      "text/plain": [
       "<matplotlib.image.AxesImage at 0x7f133c296358>"
      ]
     },
     "execution_count": 3,
     "metadata": {},
     "output_type": "execute_result"
    },
    {
     "data": {
      "image/png": "[encoded data removed]",
      "text/plain": [
       "<Figure size 432x288 with 1 Axes>"
      ]
     },
     "metadata": {
      "needs_background": "light"
     },
     "output_type": "display_data"
    }
   ],
   "source": [
    "i = 0\n",
    "plt.imshow(imgs[i].T, cmap='Greys', interpolation='bilinear', origin='lower', extent=[0, img_size, 0, img_size])"
   ]
  },
  {
   "cell_type": "code",
   "execution_count": 4,
   "metadata": {
    "ExecuteTime": {
     "end_time": "2016-07-08T01:56:15.930000",
     "start_time": "2016-07-08T01:56:15.803000"
    }
   },
   "outputs": [
    {
     "data": {
      "text/plain": [
       "((50000, 50, 50, 1), 0.1627852, 0.36916957981523874)"
      ]
     },
     "execution_count": 4,
     "metadata": {},
     "output_type": "execute_result"
    }
   ],
   "source": [
    "# Reshape and normalize the image data to mean 0 and std 1. \n",
    "X = (imgs - 0.) / 1.\n",
    "X = X.reshape(num_imgs, img_size, img_size, 1)\n",
    "X.shape, np.mean(X), np.std(X)"
   ]
  },
  {
   "cell_type": "code",
   "execution_count": 5,
   "metadata": {
    "ExecuteTime": {
     "end_time": "2016-07-08T01:56:16.558000",
     "start_time": "2016-07-08T01:56:16.548000"
    }
   },
   "outputs": [
    {
     "name": "stdout",
     "output_type": "stream",
     "text": [
      "[[0.58 0.64 0.28 0.  ]\n",
      " [0.44 0.62 0.3  0.  ]\n",
      " [0.6  0.68 0.18 0.  ]\n",
      " [0.22 0.2  0.24 0.  ]\n",
      " [0.5  0.68 0.26 0.  ]]\n"
     ]
    }
   ],
   "source": [
    "# Normalize x, y, w, h by img_size, so that all values are between 0 and 1.\n",
    "# Important: Do not shift to negative values (e.g. by setting to mean 0), because the IOU calculation needs positive w and h.\n",
    "y = bboxes.reshape(num_imgs, -1) / img_size\n",
    "y.shape, np.mean(y), np.std(y)\n",
    "print(y[:5])"
   ]
  },
  {
   "cell_type": "code",
   "execution_count": 6,
   "metadata": {
    "ExecuteTime": {
     "end_time": "2016-07-08T01:56:17.198000",
     "start_time": "2016-07-08T01:56:17.192000"
    }
   },
   "outputs": [],
   "source": [
    "# Split training and test.\n",
    "i = int(0.8 * num_imgs)\n",
    "train_X = X[:i]\n",
    "test_X = X[i:]\n",
    "train_y = y[:i]\n",
    "test_y = y[i:]\n",
    "test_imgs = imgs[i:]\n",
    "test_bboxes = bboxes[i:]"
   ]
  },
  {
   "cell_type": "code",
   "execution_count": 7,
   "metadata": {
    "ExecuteTime": {
     "end_time": "2016-07-08T01:56:21.616000",
     "start_time": "2016-07-08T01:56:17.964000"
    }
   },
   "outputs": [
    {
     "name": "stderr",
     "output_type": "stream",
     "text": [
      "Using TensorFlow backend.\n"
     ]
    },
    {
     "ename": "FileNotFoundError",
     "evalue": "[Errno 2] No such file or directory: 'model-cnn-2.json'",
     "output_type": "error",
     "traceback": [
      "\u001b[0;31m---------------------------------------------------------------------------\u001b[0m",
      "\u001b[0;31mFileNotFoundError\u001b[0m                         Traceback (most recent call last)",
      "\u001b[0;32m<ipython-input-7-3454d0f1b622>\u001b[0m in \u001b[0;36m<module>\u001b[0;34m\u001b[0m\n\u001b[1;32m      6\u001b[0m \u001b[0;34m\u001b[0m\u001b[0m\n\u001b[1;32m      7\u001b[0m \u001b[0;31m# load json and create model\u001b[0m\u001b[0;34m\u001b[0m\u001b[0;34m\u001b[0m\u001b[0;34m\u001b[0m\u001b[0m\n\u001b[0;32m----> 8\u001b[0;31m \u001b[0mjson_file\u001b[0m \u001b[0;34m=\u001b[0m \u001b[0mopen\u001b[0m\u001b[0;34m(\u001b[0m\u001b[0;34m'model-cnn-2.json'\u001b[0m\u001b[0;34m,\u001b[0m \u001b[0;34m'r'\u001b[0m\u001b[0;34m)\u001b[0m\u001b[0;34m\u001b[0m\u001b[0;34m\u001b[0m\u001b[0m\n\u001b[0m\u001b[1;32m      9\u001b[0m \u001b[0mloaded_model_json\u001b[0m \u001b[0;34m=\u001b[0m \u001b[0mjson_file\u001b[0m\u001b[0;34m.\u001b[0m\u001b[0mread\u001b[0m\u001b[0;34m(\u001b[0m\u001b[0;34m)\u001b[0m\u001b[0;34m\u001b[0m\u001b[0;34m\u001b[0m\u001b[0m\n\u001b[1;32m     10\u001b[0m \u001b[0mjson_file\u001b[0m\u001b[0;34m.\u001b[0m\u001b[0mclose\u001b[0m\u001b[0;34m(\u001b[0m\u001b[0;34m)\u001b[0m\u001b[0;34m\u001b[0m\u001b[0;34m\u001b[0m\u001b[0m\n",
      "\u001b[0;31mFileNotFoundError\u001b[0m: [Errno 2] No such file or directory: 'model-cnn-2.json'"
     ]
    }
   ],
   "source": [
    "# Build the model.\n",
    "from keras.models import Sequential\n",
    "from keras.layers import Dense, Activation, Dropout, Convolution2D, MaxPooling2D, Flatten\n",
    "from keras.optimizers import SGD\n",
    "from keras.models import model_from_json\n",
    "\n",
    "# load json and create model\n",
    "json_file = open('model-cnn-2.json', 'r')\n",
    "loaded_model_json = json_file.read()\n",
    "json_file.close()\n",
    "loaded_model = model_from_json(loaded_model_json)\n",
    "# load weights into new model\n",
    "loaded_model.load_weights(\"model-cnn-2.h5\")\n",
    "print(\"Loaded model from disk\")\n",
    "\n",
    "loaded_model.compile('adam', 'mse')\n",
    "\n",
    "#score = loaded_model.evaluate(X, y, verbose=0)\n",
    "#print(\"%s: %.2f%%\" % (loaded_model.metrics_names[0], score[0]))"
   ]
  },
  {
   "cell_type": "code",
   "execution_count": null,
   "metadata": {
    "ExecuteTime": {
     "end_time": "2016-07-08T01:57:19.973000",
     "start_time": "2016-07-08T01:56:21.618000"
    },
    "scrolled": true
   },
   "outputs": [],
   "source": [
    "# Train.\n",
    "#history = model.fit(train_X, train_y, epochs=30, validation_data=(test_X, test_y), verbose=2)"
   ]
  },
  {
   "cell_type": "code",
   "execution_count": null,
   "metadata": {},
   "outputs": [],
   "source": [
    "# we have 157 CT images in shape (157,50,50)\n",
    "output_path = \"/home/ef2p/Kaggle/cardiac/Documents/\"\n",
    "id = 0\n",
    "imgs_to_process = np.load(output_path+'fullimages_{}.npy'.format(id))\n",
    "#imgs_to_process = imgs_to_process.reshape(imgs_to_process.shape[0], imgs_to_process.shape[1], imgs_to_process.shape[2], 1)\n",
    "#imgs_to_process = imgs_to_process.reshape(-1, img_size, img_size, 1)\n",
    "print(imgs_to_process.shape)\n"
   ]
  },
  {
   "cell_type": "code",
   "execution_count": null,
   "metadata": {
    "ExecuteTime": {
     "end_time": "2016-07-08T01:57:20.286000",
     "start_time": "2016-07-08T01:57:19.975000"
    }
   },
   "outputs": [],
   "source": [
    "# loaded normalized images\n",
    "# Predict bounding boxes on the test images.\n",
    "#pred_y = loaded_model.predict(imgs_to_process)\n",
    "#pred_bboxes = pred_y * img_size\n",
    "plt.figure(figsize=(12, 3))\n",
    "plt.imshow(imgs_to_process[0], cmap='Greys', interpolation='none', origin='lower', extent=[0, img_size, 0, img_size])"
   ]
  },
  {
   "cell_type": "code",
   "execution_count": null,
   "metadata": {
    "ExecuteTime": {
     "end_time": "2016-07-08T02:01:30.216000",
     "start_time": "2016-07-08T02:01:29.481000"
    }
   },
   "outputs": [],
   "source": [
    "# Show a few test images and predicted circles from the test dataset. \n",
    "plt.figure(figsize=(12, 3))\n",
    "for i_subplot in range(1, 5):\n",
    "    plt.subplot(1, 4, i_subplot)\n",
    "    i = np.random.randint(len(imgs_to_process.shape[0]))\n",
    "    plt.imshow(imgs_to_process[i].T, cmap='Greys', interpolation='none', origin='lower', extent=[0, img_size, 0, img_size])\n",
    "    plt.gca().add_patch(matplotlib.patches.Circle((pred_bboxes[i,0], pred_bboxes[i,1]), pred_bboxes[i,2], ec='r', fc='none'))\n",
    "        \n",
    "plt.savefig('plots/ring-read-cnn-2-prediction.png', dpi=300)"
   ]
  }
 ],
 "metadata": {
  "kernelspec": {
   "display_name": "Python 3",
   "language": "python",
   "name": "python3"
  },
  "language_info": {
   "codemirror_mode": {
    "name": "ipython",
    "version": 3
   },
   "file_extension": ".py",
   "mimetype": "text/x-python",
   "name": "python",
   "nbconvert_exporter": "python",
   "pygments_lexer": "ipython3",
   "version": "3.7.2"
  }
 },
 "nbformat": 4,
 "nbformat_minor": 1
}
